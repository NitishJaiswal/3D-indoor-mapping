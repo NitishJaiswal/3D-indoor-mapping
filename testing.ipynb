{
 "cells": [
  {
   "cell_type": "code",
   "execution_count": 1,
   "metadata": {},
   "outputs": [
    {
     "name": "stdout",
     "output_type": "stream",
     "text": [
      "Loading base model ()..."
     ]
    },
    {
     "name": "stderr",
     "output_type": "stream",
     "text": [
      "Using cache found in C:\\Users\\Nitish Jaiswal/.cache\\torch\\hub\\rwightman_gen-efficientnet-pytorch_master\n"
     ]
    },
    {
     "name": "stdout",
     "output_type": "stream",
     "text": [
      "Done.\n",
      "Removing last two layers (global_pool & classifier).\n",
      "Building Encoder-Decoder model..Done.\n"
     ]
    }
   ],
   "source": [
    "from PIL import Image # for image resizing\n",
    "from torch import cuda #primarily to clear cache after each iteration\n",
    "from infer import InferenceHelper #AdaBins model\n",
    "from matplotlib import pyplot as plt #for showing and sving predicted_depth array as a depth map\n",
    "import numpy as np   #for np.squeeze(), reading and writing ndarrays into text files\n",
    "import os      #for looping over all images in the Data folder\n",
    "\n",
    "infer_helper = InferenceHelper(dataset='nyu')"
   ]
  },
  {
   "cell_type": "markdown",
   "metadata": {},
   "source": [
    "Loop over all images in a directory, infer.py is bugged for predicting depth for a directory of images"
   ]
  },
  {
   "cell_type": "code",
   "execution_count": 2,
   "metadata": {},
   "outputs": [
    {
     "name": "stdout",
     "output_type": "stream",
     "text": [
      "Processing image:1\n",
      "Processing image:1\n",
      "Processing image:2\n",
      "Processing image:3\n",
      "Processing image:4\n",
      "Processing image:5\n",
      "Processing image:6\n",
      "Processing image:7\n",
      "Processing image:8\n",
      "Processing image:9\n",
      "Processing image:10\n",
      "Processing image:11\n",
      "Processing image:12\n",
      "Processing image:13\n",
      "Processing image:14\n",
      "Processing image:15\n",
      "Processing image:16\n",
      "Processing image:17\n",
      "Processing image:18\n",
      "Processing image:19\n",
      "Processing image:20\n",
      "Processing image:21\n",
      "Processing image:22\n",
      "Processing image:23\n",
      "Processing image:24\n",
      "Processing image:25\n",
      "Processing image:26\n",
      "Processing image:27\n",
      "Processing image:28\n",
      "Processing image:29\n",
      "Processing image:30\n",
      "Processing image:31\n",
      "Processing image:32\n",
      "Processing image:33\n",
      "Processing image:34\n",
      "Processing image:35\n",
      "Processing image:36\n",
      "Processing image:37\n",
      "Processing image:38\n",
      "Processing image:39\n",
      "Processing image:40\n",
      "Processing image:41\n",
      "Processing image:42\n",
      "Processing image:43\n",
      "Processing image:44\n",
      "Processing image:45\n",
      "Processing image:46\n",
      "Processing image:47\n",
      "Processing image:48\n",
      "Processing image:49\n",
      "Processing image:50\n",
      "Processing image:51\n",
      "Processing image:52\n",
      "Processing image:53\n",
      "Processing image:54\n",
      "Processing image:55\n",
      "Processing image:56\n",
      "Processing image:57\n",
      "Processing image:58\n",
      "Processing image:59\n",
      "Processing image:60\n",
      "Processing image:61\n",
      "Processing image:62\n",
      "Processing image:63\n",
      "Processing image:64\n",
      "Processing image:65\n",
      "Processing image:66\n",
      "Processing image:67\n",
      "Processing image:68\n",
      "Processing image:69\n",
      "Processing image:70\n",
      "Processing image:71\n",
      "Processing image:72\n",
      "Processing image:73\n",
      "Processing image:74\n"
     ]
    }
   ],
   "source": [
    "data=\"Data/ILCE_QX1_L\"\n",
    "newsize=(640,480)\n",
    "c=1\n",
    "for image in os.listdir(data):\n",
    "    print(\"Processing image:\"+str(c))\n",
    "    if(image.endswith(\".JPG\")):\n",
    "        img = Image.open(data+\"/\"+image)  \n",
    "        #w,h=img.size\n",
    "        #print(\"Original width:\",w,\",height:\",h)\n",
    "        img=img.resize(newsize)\n",
    "        #print(img.size)\n",
    "        #img.show()\n",
    "        bin_centers, predicted_depth = infer_helper.predict_pil(img)\n",
    "        #np.savetxt(\"Data/depth_txt/\"+image[:-4]+\".txt\",predicted_depth.squeeze())\n",
    "        plt.matshow(predicted_depth.squeeze())\n",
    "        #plt.show()\n",
    "        #plt.savefig(\"Data/depth_maps/\"+image)\n",
    "        img.close()\n",
    "        plt.close()\n",
    "        cuda.empty_cache()\n",
    "        c+=1"
   ]
  }
 ],
 "metadata": {
  "kernelspec": {
   "display_name": "Python 3",
   "language": "python",
   "name": "python3"
  },
  "language_info": {
   "codemirror_mode": {
    "name": "ipython",
    "version": 3
   },
   "file_extension": ".py",
   "mimetype": "text/x-python",
   "name": "python",
   "nbconvert_exporter": "python",
   "pygments_lexer": "ipython3",
   "version": "3.8.5"
  }
 },
 "nbformat": 4,
 "nbformat_minor": 4
}
