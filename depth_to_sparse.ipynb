{
 "cells": [
  {
   "cell_type": "markdown",
   "metadata": {},
   "source": [
    "# Preprocessing Depth array"
   ]
  },
  {
   "cell_type": "markdown",
   "metadata": {},
   "source": [
    "##### Deep learning Model outputs depth array of size 640 x 480 but which is different aspect ratio from the original images, therefore we resize the depth array along vertical axis using graph interpolation to get new depth array of size 640 x 426 "
   ]
  },
  {
   "cell_type": "markdown",
   "metadata": {},
   "source": [
    "Imports"
   ]
  },
  {
   "cell_type": "code",
   "execution_count": 3,
   "metadata": {},
   "outputs": [],
   "source": [
    "import numpy as np\n",
    "import matplotlib.image as mpimg\n",
    "from matplotlib import pyplot as plt\n",
    "import os\n",
    "from scipy import interpolate"
   ]
  },
  {
   "cell_type": "code",
   "execution_count": 4,
   "metadata": {},
   "outputs": [],
   "source": [
    "def shrink_array(arr, new_size):\n",
    "    '''\n",
    "    Function to shrink 1D-array to a new size using graph interpolation\n",
    "    '''\n",
    "    old_size=arr.size\n",
    "    x=np.arange(0,old_size)\n",
    "    y=arr\n",
    "    f = interpolate.interp1d(x, y)\n",
    "    xnew=np.arange(0,old_size,old_size/new_size)\n",
    "    ynew=f(xnew)\n",
    "    #print(\"returning array with size {}\".format(ynew.size))\n",
    "    return ynew\n",
    "\n",
    "def depth_resize(d_arr, new_size):\n",
    "    '''\n",
    "    Function to resize depth array 'd_arr' along vertical axis with new dimension as 'new_size'\n",
    "    '''\n",
    "    re_depth=np.zeros((new_size,640))\n",
    "    for i in range(0,640):\n",
    "        re_depth[:,i]=shrink_array(d_arr[:,i],new_size)\n",
    "        \n",
    "    return re_depth\n",
    "\n",
    "\n",
    "def sparse_point_cloud(depth_map, size):\n",
    "    '''\n",
    "    Function to convert depth array into sparse point cloud\n",
    "    '''\n",
    "    fx, fz = 441, 443 #based on sensor size calculations\n",
    "    cx, cz = 320, 213 #based on depth-map dimensions\n",
    "\n",
    "    y = depth_map\n",
    "    y =(-1)*y\n",
    "    # convert depth image of shape to point map \n",
    "    # here we assume depth image is of shape (426, 640)\n",
    "    px, pz = np.meshgrid(np.arange(640), np.arange(size))  # pixel_x, pixel_y\n",
    "    px, pz = px.astype(float), pz.astype(float)\n",
    "    x = ((px - cx) / fx) * y\n",
    "    z = ((pz - cz) / fz) * y \n",
    "    pmap = np.concatenate([i[..., np.newaxis] for i in (x, y, z)], axis=-1)\n",
    "\n",
    "    new_pmap=np.reshape(pmap, (size*640,-1))\n",
    "    \n",
    "    #truncating depth values greater than 5m\n",
    "    spc=[]\n",
    "    for points in new_pmap:\n",
    "        if(abs(points[1])<5):\n",
    "            spc.append(points)\n",
    "    spc=np.array(spc)\n",
    "    return spc"
   ]
  },
  {
   "cell_type": "markdown",
   "metadata": {},
   "source": [
    "Saving sparse point clouds in a separate folder"
   ]
  },
  {
   "cell_type": "code",
   "execution_count": 5,
   "metadata": {},
   "outputs": [],
   "source": [
    "depth_folder=\"Data/depth_txt\"\n",
    "sparse_folder=\"Data/spc_5m\"\n",
    "new_size=426\n",
    "\n",
    "for d_file in os.listdir(depth_folder):\n",
    "    depth=np.loadtxt(depth_folder+\"/\"+d_file)\n",
    "    depth_map=depth_resize(depth, new_size)\n",
    "    spc=sparse_point_cloud(depth_map, new_size)\n",
    "    np.savetxt(sparse_folder+\"/\"+d_file, spc)"
   ]
  },
  {
   "cell_type": "code",
   "execution_count": null,
   "metadata": {},
   "outputs": [],
   "source": []
  }
 ],
 "metadata": {
  "kernelspec": {
   "display_name": "Python 3",
   "language": "python",
   "name": "python3"
  },
  "language_info": {
   "codemirror_mode": {
    "name": "ipython",
    "version": 3
   },
   "file_extension": ".py",
   "mimetype": "text/x-python",
   "name": "python",
   "nbconvert_exporter": "python",
   "pygments_lexer": "ipython3",
   "version": "3.8.5"
  }
 },
 "nbformat": 4,
 "nbformat_minor": 4
}
