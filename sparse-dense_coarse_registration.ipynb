{
 "cells": [
  {
   "cell_type": "markdown",
   "metadata": {},
   "source": [
    "## Performing 2-step registration of Sparse-dense point clouds"
   ]
  },
  {
   "cell_type": "code",
   "execution_count": 131,
   "metadata": {},
   "outputs": [],
   "source": [
    "import open3d as o3d\n",
    "import copy\n",
    "import numpy as np\n",
    "import time"
   ]
  },
  {
   "cell_type": "markdown",
   "metadata": {},
   "source": [
    "Use downsampled lidar for faster computation"
   ]
  },
  {
   "cell_type": "code",
   "execution_count": 132,
   "metadata": {},
   "outputs": [
    {
     "data": {
      "text/plain": [
       "PointCloud with 17523 points."
      ]
     },
     "execution_count": 132,
     "metadata": {},
     "output_type": "execute_result"
    }
   ],
   "source": [
    "lidar=o3d.io.read_point_cloud(\"Data/lidar.txt\", format='xyz')\n",
    "downsampled_lidar=lidar.voxel_down_sample(0.02)\n",
    "trajectory = o3d.io.read_point_cloud(\"Data/test_traj.txt\", format='xyz')\n",
    "axes=o3d.io.read_point_cloud(\"Data/coord_axes.txt\", format='xyzrgb')\n",
    "trajectory.paint_uniform_color([0, 0, 0])"
   ]
  },
  {
   "cell_type": "code",
   "execution_count": 133,
   "metadata": {},
   "outputs": [],
   "source": [
    "intervals = o3d.io.read_point_cloud(\"Data/intervals.txt\", format='xyz')\n",
    "intervals.paint_uniform_color([1, 0, 0])\n",
    "\n",
    "rotation_vector=np.loadtxt(\"Data/rotations.txt\")\n",
    "\n",
    "\n",
    "def spc_reader(image_num):\n",
    "    '''\n",
    "    Reads sparse-point-clouds from the directory\n",
    "    '''\n",
    "    iteration_number=image_num\n",
    "    imageNo=str(1583+iteration_number)\n",
    "    spc = o3d.io.read_point_cloud(\"Data/spc_5m/DSC0\"+imageNo+\".txt\", format='xyz')\n",
    "    \n",
    "    return spc"
   ]
  },
  {
   "cell_type": "code",
   "execution_count": 134,
   "metadata": {},
   "outputs": [],
   "source": [
    "def translationVector(image_num):\n",
    "    '''\n",
    "    adding bias based on data\n",
    "    '''\n",
    "    translation_vector=np.array(intervals.points)\n",
    "    tr=[]\n",
    "    tr.append(translation_vector[image_num,0]+1.5)\n",
    "    tr.append(translation_vector[image_num,1]+3.4)\n",
    "    tr.append(translation_vector[image_num,2])\n",
    "    #print(\"translation:\",tr)\n",
    "    return tr    "
   ]
  },
  {
   "cell_type": "code",
   "execution_count": 135,
   "metadata": {},
   "outputs": [],
   "source": [
    "def rotationVector(spc,image_num):\n",
    "    '''\n",
    "    initial rotations based on data\n",
    "    '''\n",
    "    rotation=rotation_vector[image_num].tolist()\n",
    "    R = spc.get_rotation_matrix_from_xyz(rotation)\n",
    "    return R"
   ]
  },
  {
   "cell_type": "code",
   "execution_count": 136,
   "metadata": {},
   "outputs": [],
   "source": [
    "def initial_transform(spc,T,R):\n",
    "    '''\n",
    "    based on initial rotations and tranlations\n",
    "    '''\n",
    "    spcT = copy.deepcopy(spc)\n",
    "    spcT.rotate(R)\n",
    "    spcT = spcT.translate(tr)\n",
    "    #spcT.paint_uniform_color([1,0,1])\n",
    "    \n",
    "    return spcT"
   ]
  },
  {
   "cell_type": "code",
   "execution_count": 120,
   "metadata": {},
   "outputs": [],
   "source": [
    "#o3d.visualization.draw_geometries([intervals,axes, spcT, downsampled_lidar])"
   ]
  },
  {
   "cell_type": "markdown",
   "metadata": {},
   "source": [
    "Function to visualize registration result"
   ]
  },
  {
   "cell_type": "code",
   "execution_count": 137,
   "metadata": {},
   "outputs": [],
   "source": [
    "def draw_registration_result_original_color(source, target, transformation):\n",
    "    source_temp = copy.deepcopy(source)\n",
    "    source_temp.transform(transformation)\n",
    "    s_c=copy.deepcopy(source)\n",
    "    s_c.paint_uniform_color((0,0,1))\n",
    "    #FOR FLIPPING POINT CLOUD UPSIDE DOWN\n",
    "    #source_temp.transform([[1,0,0,0],[0,-1,0,0],[0,0,-1,0],[0,0,0,1]])\n",
    "    #target.transform([[1,0,0,0],[0,-1,0,0],[0,0,-1,0],[0,0,0,1]])\n",
    "    o3d.visualization.draw_geometries([source_temp, target, axes],\n",
    "                                      zoom=0.1,\n",
    "                                      front=[-0.2458, -0.8088, 0.5342],\n",
    "                                      lookat=[0, 0, 0],\n",
    "                                      up=[0.3109, -0.5878, -0.7468])"
   ]
  },
  {
   "cell_type": "markdown",
   "metadata": {},
   "source": [
    "### Point-to-plane ICP registration"
   ]
  },
  {
   "cell_type": "code",
   "execution_count": 138,
   "metadata": {},
   "outputs": [],
   "source": [
    "def PointToPlaneICP(spcT, dL):\n",
    "    '''\n",
    "    initially transformed sparse point-cloud: spcT is aligned with down-sampled lidar: dL for estimating\n",
    "    final transformation parameters\n",
    "    '''\n",
    "    \n",
    "    source=spcT\n",
    "    #target=o3d.io.read_point_cloud(\"Data/down_small_lidar.txt\", format='xyz')\n",
    "    target=copy.deepcopy(dL)\n",
    "    current_transformation = np.identity(4)\n",
    "\n",
    "    #print(\"2. Point-to-plane ICP registration is applied on original point\")\n",
    "    #print(\"   clouds to refine the alignment. Distance threshold 2.\")\n",
    "\n",
    "    source.estimate_normals(search_param=o3d.geometry.KDTreeSearchParamHybrid(radius=0.1, max_nn=30))\n",
    "    target.estimate_normals(search_param=o3d.geometry.KDTreeSearchParamHybrid(radius=0.1, max_nn=30))\n",
    "    #start = time.time()\n",
    "    result_icp = o3d.pipelines.registration.registration_icp(\n",
    "        source, target, 2, current_transformation,\n",
    "        o3d.pipelines.registration.TransformationEstimationPointToPlane())\n",
    "    #print(\"Point-to-Plane ICP registration took %.3f sec.\\n\" % (time.time() - start))\n",
    "    #print(result_icp)\n",
    "    #print(result_icp.transformation)\n",
    "    inlier_rmse=np.array(result_icp.inlier_rmse)\n",
    "    correspondence_set_size=np.array(len(result_icp.correspondence_set))\n",
    "    transformations=np.array(result_icp.transformation)\n",
    "    \n",
    "    return inlier_rmse, correspondence_set_size, transformations\n",
    "\n",
    "#draw_registration_result_original_color(source, target, result_icp.transformation)"
   ]
  },
  {
   "cell_type": "code",
   "execution_count": 139,
   "metadata": {},
   "outputs": [],
   "source": [
    "def registrationTwoStep(image_num, d_L):\n",
    "    '''\n",
    "    function for complete pipeline of registration\n",
    "    '''\n",
    "    \n",
    "    i=image_num\n",
    "    sparse_point_cloud=spc_reader(i)\n",
    "    T=translationVector(i)\n",
    "    R=rotationVector(sparse_point_cloud,i)\n",
    "    spcT=initial_transform(sparse_point_cloud,T,R)\n",
    "    RMSE, Size, Transforms = PointToPlaneICP(spcT, d_L)\n",
    "    \n",
    "    return RMSE, Size, Transforms"
   ]
  },
  {
   "cell_type": "code",
   "execution_count": 140,
   "metadata": {},
   "outputs": [
    {
     "name": "stdout",
     "output_type": "stream",
     "text": [
      "Complete Batch registration took 4868.820 sec.\n",
      "\n"
     ]
    }
   ],
   "source": [
    "result_folder=\"Data/Results\"\n",
    "dataset_size=74\n",
    "\n",
    "inlier_rmse=[]\n",
    "correspondence_set_size=[]\n",
    "transformations=[]\n",
    "\n",
    "start = time.time()\n",
    "for i in range(dataset_size):\n",
    "    rmse, size, transforms=registrationTwoStep(i, downsampled_lidar)\n",
    "    inlier_rmse.append(rmse)\n",
    "    correspondence_set_size.append(size)\n",
    "    transformations.append(transforms)\n",
    "    \n",
    "print(\"Complete Batch registration took %.3f sec.\\n\" % (time.time() - start))"
   ]
  },
  {
   "cell_type": "code",
   "execution_count": 141,
   "metadata": {},
   "outputs": [
    {
     "data": {
      "text/plain": [
       "[array(0.09595444),\n",
       " array(0.09568977),\n",
       " array(0.09475652),\n",
       " array(0.0970854),\n",
       " array(0.10139227),\n",
       " array(0.11636438),\n",
       " array(0.12956322),\n",
       " array(0.14016871),\n",
       " array(0.15322942),\n",
       " array(0.11639661),\n",
       " array(0.12219212),\n",
       " array(0.1005733),\n",
       " array(0.27581351),\n",
       " array(0.26493132),\n",
       " array(0.22104838),\n",
       " array(0.2901721),\n",
       " array(0.2497545),\n",
       " array(0.2654301),\n",
       " array(0.34411857),\n",
       " array(0.31421292),\n",
       " array(0.37877076),\n",
       " array(0.34237201),\n",
       " array(0.43610056),\n",
       " array(0.3382053),\n",
       " array(0.28399585),\n",
       " array(0.32700537),\n",
       " array(0.10264681),\n",
       " array(0.12284093),\n",
       " array(0.16172802),\n",
       " array(0.24219076),\n",
       " array(0.3542235),\n",
       " array(0.32520818),\n",
       " array(0.33058666),\n",
       " array(0.3146887),\n",
       " array(0.32374997),\n",
       " array(0.34870576),\n",
       " array(0.36581934),\n",
       " array(0.37231807),\n",
       " array(0.30995004),\n",
       " array(0.38152669),\n",
       " array(0.43417415),\n",
       " array(0.41213139),\n",
       " array(0.41100679),\n",
       " array(0.38942466),\n",
       " array(0.37728135),\n",
       " array(0.41289243),\n",
       " array(0.41907963),\n",
       " array(0.20681287),\n",
       " array(0.26315237),\n",
       " array(0.22078972),\n",
       " array(0.27313503),\n",
       " array(0.26599934),\n",
       " array(0.27844714),\n",
       " array(0.16328338),\n",
       " array(0.35852641),\n",
       " array(0.09722679),\n",
       " array(0.25322499),\n",
       " array(0.20631172),\n",
       " array(0.24964311),\n",
       " array(0.24895016),\n",
       " array(0.27910223),\n",
       " array(0.25334282),\n",
       " array(0.43205483),\n",
       " array(0.26996281),\n",
       " array(0.30272067),\n",
       " array(0.31760075),\n",
       " array(0.31207133),\n",
       " array(0.36314916),\n",
       " array(0.35274182),\n",
       " array(0.32601162),\n",
       " array(0.30915718),\n",
       " array(0.30765151),\n",
       " array(0.33522522),\n",
       " array(0.32882619)]"
      ]
     },
     "execution_count": 141,
     "metadata": {},
     "output_type": "execute_result"
    }
   ],
   "source": [
    "inlier_rmse"
   ]
  },
  {
   "cell_type": "code",
   "execution_count": null,
   "metadata": {},
   "outputs": [],
   "source": []
  }
 ],
 "metadata": {
  "kernelspec": {
   "display_name": "Python 3",
   "language": "python",
   "name": "python3"
  },
  "language_info": {
   "codemirror_mode": {
    "name": "ipython",
    "version": 3
   },
   "file_extension": ".py",
   "mimetype": "text/x-python",
   "name": "python",
   "nbconvert_exporter": "python",
   "pygments_lexer": "ipython3",
   "version": "3.8.5"
  }
 },
 "nbformat": 4,
 "nbformat_minor": 4
}
