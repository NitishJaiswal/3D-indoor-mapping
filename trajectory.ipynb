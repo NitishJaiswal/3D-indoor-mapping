{
 "cells": [
  {
   "cell_type": "markdown",
   "metadata": {},
   "source": [
    "# Manipulation of trajectory data for rough alignment of Sparse point cloud"
   ]
  },
  {
   "cell_type": "markdown",
   "metadata": {},
   "source": [
    "##### Here we calculate the length of the scanning-trajectory and divide it into sub intervals based on the Image scanning frequency and calculate normals to initialize rotation parameters of sparse point cloud from each image in the sequence"
   ]
  },
  {
   "cell_type": "code",
   "execution_count": 2,
   "metadata": {},
   "outputs": [],
   "source": [
    "import math\n",
    "import numpy as np\n",
    "import open3d as o3d"
   ]
  },
  {
   "cell_type": "code",
   "execution_count": 10,
   "metadata": {},
   "outputs": [],
   "source": [
    "def distance(x1,x2,y1,y2):\n",
    "    '''\n",
    "    This function is created to calculate distances between points of the trajectory.\n",
    "    As most of the points lie on the same horizontal plane, there isn't much change \n",
    "    in the z values of the points. Thus, distance is calculated in the horizontal plane\n",
    "    itself using the x and y coordinates\n",
    "    '''\n",
    "    return math.sqrt(((x2-x1)**2)+((y2-y1)**2))\n",
    "\n",
    "def traj_len(traj, resolution):\n",
    "    \"\"\"\n",
    "    traj is an array with 3 columns for x,y,z coordinates\n",
    "    resolution is a positive integer defining no. of points to skip\n",
    "    Calculates the length of the trajectory in the horizontal plane\n",
    "    with a given resolution of no. of consecutive points along the\n",
    "    trajectory\n",
    "    \"\"\"\n",
    "    length=0\n",
    "    r=resolution\n",
    "    print(len(traj))\n",
    "    for i in range(0, len(traj)-r, r):\n",
    "        x1=traj[i][0]\n",
    "        x2=traj[i+r][0]\n",
    "        y1=traj[i][1]\n",
    "        y2=traj[i+r][1]\n",
    "        length+=distance(x1,x2,y1,y2)\n",
    "        \n",
    "    return length\n"
   ]
  },
  {
   "cell_type": "code",
   "execution_count": 4,
   "metadata": {},
   "outputs": [
    {
     "name": "stdout",
     "output_type": "stream",
     "text": [
      "17523\n",
      "140.7503984436537\n"
     ]
    }
   ],
   "source": [
    "traj=np.loadtxt(\"Data/test_traj.txt\")\n",
    "length_of_traj=traj_len(traj, 100)\n",
    "print(length_of_traj)"
   ]
  },
  {
   "cell_type": "markdown",
   "metadata": {},
   "source": [
    "We have 228 images in the total dataset so length of sub-interval = 140/228 = 0.61 meters (approximately)"
   ]
  },
  {
   "cell_type": "markdown",
   "metadata": {},
   "source": [
    "### Subinterval calculator"
   ]
  },
  {
   "cell_type": "code",
   "execution_count": 27,
   "metadata": {},
   "outputs": [],
   "source": [
    "def sub_calc(traj, interval_length):\n",
    "    subintervals=[]\n",
    "    sub_length=0\n",
    "    subintervals.append(traj[0])\n",
    "    for i in range(0, len(traj)-1):\n",
    "        x1=traj[i][0]\n",
    "        x2=traj[i+1][0]\n",
    "        y1=traj[i][1]\n",
    "        y2=traj[i+1][1]\n",
    "        sub_length+=distance(x1,x2,y1,y2)\n",
    "        if(sub_length>interval_length):\n",
    "            subintervals.append(traj[i+1])\n",
    "            sub_length=0\n",
    "    return subintervals"
   ]
  },
  {
   "cell_type": "code",
   "execution_count": 32,
   "metadata": {},
   "outputs": [],
   "source": [
    "subs=sub_calc(traj,0.32) #adjusting interval length according to our dataset\n",
    "intervals=np.array(subs)"
   ]
  },
  {
   "cell_type": "code",
   "execution_count": 33,
   "metadata": {},
   "outputs": [
    {
     "data": {
      "text/plain": [
       "(438, 3)"
      ]
     },
     "execution_count": 33,
     "metadata": {},
     "output_type": "execute_result"
    }
   ],
   "source": [
    "intervals.shape"
   ]
  },
  {
   "cell_type": "code",
   "execution_count": 34,
   "metadata": {},
   "outputs": [],
   "source": [
    "#np.savetxt(\"Data/test_intervals.txt\",intervals)"
   ]
  },
  {
   "cell_type": "markdown",
   "metadata": {},
   "source": [
    "### Normal direction calculator"
   ]
  },
  {
   "cell_type": "markdown",
   "metadata": {},
   "source": [
    "Calculating rotational angle only about z-axis"
   ]
  },
  {
   "cell_type": "code",
   "execution_count": 39,
   "metadata": {},
   "outputs": [],
   "source": [
    "def rotation_calc(intervals):\n",
    "    angles=[]\n",
    "    for j in range(len(intervals)-1):\n",
    "        x=intervals[j+1,0]-intervals[j,0]\n",
    "        y=intervals[j+1,1]-intervals[j,1]\n",
    "        angles.append(math.atan(y/x))\n",
    "    return angles"
   ]
  },
  {
   "cell_type": "code",
   "execution_count": 43,
   "metadata": {},
   "outputs": [
    {
     "data": {
      "text/plain": [
       "(437,)"
      ]
     },
     "execution_count": 43,
     "metadata": {},
     "output_type": "execute_result"
    }
   ],
   "source": [
    "rotation_z=np.array(rotation_calc(intervals))\n",
    "rotation_z.shape"
   ]
  },
  {
   "cell_type": "code",
   "execution_count": 45,
   "metadata": {},
   "outputs": [
    {
     "data": {
      "text/plain": [
       "array([ 1.18079554e+00,  1.42653415e+00,  1.56579712e+00,  1.49417954e+00,\n",
       "       -1.56654531e+00, -1.53513154e+00,  1.54454652e+00, -1.56206091e+00,\n",
       "       -1.50343249e+00, -1.54100365e+00, -1.53399113e+00,  1.56896203e+00,\n",
       "        1.49785868e+00,  1.53020008e+00,  1.46675015e+00, -1.56703598e+00,\n",
       "       -1.53921554e+00,  1.53596577e+00, -1.50369718e+00, -1.30366831e+00,\n",
       "       -1.12449971e+00, -8.56210221e-01, -4.53953552e-01, -2.99410248e-01,\n",
       "       -1.11684774e-01,  4.62385443e-02, -8.12364393e-03, -1.11640727e-01,\n",
       "       -4.63554086e-02, -6.08470100e-02, -1.54618524e-01, -3.39295185e-02,\n",
       "       -1.27105797e-01, -2.20461106e-01, -3.81156050e-02, -1.75158841e-02,\n",
       "       -9.09596536e-02, -3.87436013e-02,  3.70304139e-02,  3.26388223e-02,\n",
       "        2.58326538e-01,  4.09652701e-01,  5.47327251e-01,  1.13534056e+00,\n",
       "        1.47755729e+00,  1.40985473e+00, -1.51872285e+00,  1.47766169e+00,\n",
       "        1.46010437e+00,  1.51286416e+00,  1.45097272e+00,  1.47268729e+00,\n",
       "        1.53140546e+00,  1.54433187e+00,  1.49649857e+00,  1.41103823e+00,\n",
       "        1.51694486e+00,  1.51412314e+00,  1.43408761e+00, -1.54665116e+00,\n",
       "       -1.56257495e+00,  1.47324656e+00, -1.55674408e+00, -1.46831060e+00,\n",
       "       -1.48083037e+00, -1.45530512e+00, -1.32757393e+00, -1.15513140e+00,\n",
       "       -9.82748972e-01, -9.07604298e-01, -9.14784265e-01, -9.92729319e-01,\n",
       "       -1.13067484e+00, -1.09334537e+00, -1.10151347e+00, -1.21904517e+00,\n",
       "       -1.24212941e+00, -1.23841743e+00, -1.38296260e+00, -1.48237776e+00,\n",
       "       -1.52440173e+00,  1.46334100e+00,  1.34188280e+00,  1.34087250e+00,\n",
       "        1.39675463e+00,  1.47336491e+00,  1.51340844e+00, -1.46350561e+00,\n",
       "       -1.54526942e+00,  1.31549795e+00,  1.33492095e+00,  1.43878534e+00,\n",
       "       -1.54561410e+00, -1.14618558e+00, -9.26252169e-01, -6.20248018e-01,\n",
       "       -1.01831187e-01,  9.85960164e-02,  4.33526353e-02,  1.06312486e-01,\n",
       "        2.37105722e-01,  2.01193502e-01,  3.52462034e-02,  7.14116369e-02,\n",
       "        4.70559039e-02, -3.20662692e-02, -7.33465818e-02,  5.38125130e-02,\n",
       "        1.17435776e-01,  4.59807768e-02, -5.33062534e-02, -8.35891699e-02,\n",
       "       -4.55729045e-02, -5.77718830e-02, -7.93066880e-02, -1.30382242e-02,\n",
       "        4.65920955e-03, -1.23966637e-01, -1.73778654e-01, -7.02208666e-02,\n",
       "       -1.05372068e-01, -1.97346149e-01, -1.38355104e-01, -1.53585343e-01,\n",
       "       -3.49203756e-01, -3.39298136e-01, -3.63996290e-01, -7.14638036e-01,\n",
       "       -9.31707517e-01, -7.79537410e-01,  1.18735971e-01,  1.10387697e+00,\n",
       "        1.17972451e+00,  1.55079946e+00, -1.44956885e+00,  1.54276382e+00,\n",
       "        1.44448249e+00,  1.52975177e+00,  1.56174992e+00,  1.45877984e+00,\n",
       "        1.40606456e+00,  1.40199710e+00,  1.13397058e+00,  8.82801668e-01,\n",
       "        7.96444409e-01,  4.90335869e-01,  1.68059696e-01,  8.69112050e-02,\n",
       "       -1.22248105e-01, -2.98143518e-01, -8.06511613e-02,  1.46892346e-01,\n",
       "        3.63353665e-01,  7.02561478e-01,  1.10781672e+00,  1.23334227e+00,\n",
       "        1.35954668e+00, -1.44365793e+00, -1.07494870e+00, -3.65187587e-01,\n",
       "        4.15296677e-03, -8.14448030e-02,  6.34844838e-02, -2.21451358e-02,\n",
       "       -1.08942355e-01, -3.10783568e-05, -3.06746833e-02, -9.44688577e-02,\n",
       "       -1.36737564e-02,  6.82316544e-02,  2.89614709e-02, -3.14488537e-02,\n",
       "       -1.62276753e-02, -2.68615894e-03, -1.31362781e-01, -8.57568456e-02,\n",
       "        1.88691266e-03, -9.23156613e-02, -2.32879036e-01, -3.25149835e-01,\n",
       "       -4.31997394e-01, -7.72435273e-01, -9.48472298e-01, -1.20076237e+00,\n",
       "       -1.55497910e+00, -1.49300850e+00, -1.51039937e+00,  1.43437120e+00,\n",
       "        1.46709126e+00,  1.42027954e+00,  1.28596032e+00,  1.37722927e+00,\n",
       "        1.50936287e+00,  1.47025373e+00,  1.53221398e+00,  1.17310480e+00,\n",
       "        6.99133648e-01,  3.15089256e-01, -2.59233013e-02,  1.49717903e-02,\n",
       "        3.59061347e-02, -3.55704164e-02,  1.15781344e-01,  1.54348578e-01,\n",
       "       -1.38110563e-02,  5.73519433e-02,  8.72193799e-02, -8.35837754e-02,\n",
       "       -1.03826242e-01, -3.18251726e-01, -8.21827863e-01, -1.08920701e+00,\n",
       "       -1.36808349e+00,  1.49232118e+00, -1.57012355e+00, -1.52717986e+00,\n",
       "        1.56788237e+00, -1.49914339e+00, -1.55958378e+00,  1.44429246e+00,\n",
       "        1.47108917e+00,  1.54934242e+00,  1.48857016e+00,  1.49261234e+00,\n",
       "       -1.48622041e+00, -1.23990348e+00, -6.32379342e-01, -4.35639305e-01,\n",
       "        3.27606356e-02,  4.39477958e-01,  1.10606214e+00,  1.51599998e+00,\n",
       "        1.44679709e+00, -1.55545844e+00,  1.48914954e+00,  1.45337418e+00,\n",
       "       -1.45813356e+00, -1.52975053e+00,  1.44323935e+00,  1.43924511e+00,\n",
       "        1.47991169e+00,  1.37536167e+00,  1.33663197e+00,  1.37112017e+00,\n",
       "        1.34535311e+00,  1.28071561e+00,  1.36387986e+00,  1.54888586e+00,\n",
       "        1.50630821e+00, -1.39050539e+00, -8.38016272e-01, -1.73053228e-01,\n",
       "       -5.28446073e-02, -1.75765025e-01, -5.28336633e-02,  2.28152036e-02,\n",
       "        1.97252061e-02,  3.81201422e-03,  7.77091646e-02,  9.30169199e-02,\n",
       "        4.89897052e-02,  7.84471630e-02,  7.78186409e-02, -8.36302549e-02,\n",
       "       -9.51313575e-02,  1.07452045e-01,  5.44098943e-02, -8.44028271e-02,\n",
       "       -1.03352829e-01, -3.07142092e-01, -6.99559424e-01, -8.82645897e-01,\n",
       "       -1.14067428e+00, -1.52576039e+00, -1.53462182e+00, -1.48549633e+00,\n",
       "        1.56287921e+00,  1.52006086e+00, -1.49979075e+00, -1.55010282e+00,\n",
       "        1.49127850e+00, -1.55248642e+00, -1.53764650e+00,  1.39383134e+00,\n",
       "        1.28858969e+00,  9.22381820e-01,  4.83835689e-01,  3.81042687e-01,\n",
       "       -8.67997946e-02, -4.64095685e-02,  1.17194677e-01,  6.04421242e-02,\n",
       "        4.95430171e-02,  1.18112437e-01,  7.38919616e-02,  1.61350323e-02,\n",
       "        4.55820618e-02, -1.34032224e-01, -3.69722048e-01, -5.49708025e-01,\n",
       "       -8.86050307e-01, -1.21501051e+00, -1.24544513e+00, -1.52650500e+00,\n",
       "        1.51145898e+00, -1.51059029e+00, -1.53181693e+00,  1.52604894e+00,\n",
       "        1.56115559e+00,  1.53397793e+00,  1.46869301e+00,  1.50532740e+00,\n",
       "       -1.43195412e+00, -1.30941576e+00, -9.96630414e-01, -5.14656198e-01,\n",
       "       -3.97728116e-01, -2.57237739e-01, -6.15481773e-01, -9.27310089e-01,\n",
       "       -9.13857537e-01, -1.16394626e+00, -1.40801856e+00, -1.37618735e+00,\n",
       "       -1.47243383e+00,  1.49834601e+00, -1.49594713e+00, -1.51557104e+00,\n",
       "       -1.56584578e+00, -1.48104678e+00, -1.43718515e+00, -1.49437127e+00,\n",
       "       -1.53730475e+00, -1.42690257e+00, -1.35149352e+00, -1.40611238e+00,\n",
       "       -1.41267847e+00, -1.35960119e+00, -1.44599795e+00, -1.54431728e+00,\n",
       "       -1.56523411e+00,  1.37464227e+00,  9.89590696e-01,  7.63141081e-01,\n",
       "        4.56483542e-01,  1.01566197e-01,  1.27386795e-01,  2.85930715e-01,\n",
       "        3.46194747e-01,  5.00464465e-01,  7.39495980e-01,  8.81958819e-01,\n",
       "        1.04829964e+00,  1.29100517e+00,  1.29197249e+00,  1.22344373e+00,\n",
       "        1.26930937e+00,  1.13038022e+00,  9.24927009e-01,  8.23072101e-01,\n",
       "        6.22425161e-01,  4.00072539e-01,  3.22985378e-01,  3.86366429e-01,\n",
       "        2.78349012e-01,  1.67274510e-01,  1.54627747e-01,  1.95361583e-01,\n",
       "        9.09481146e-02,  2.31198409e-02,  6.00429108e-02,  9.91315752e-02,\n",
       "       -8.70272515e-02, -1.15254295e-01,  5.48370524e-02,  2.75751247e-02,\n",
       "       -4.14981122e-02,  3.40952616e-02,  2.14081528e-02, -1.78885679e-02,\n",
       "        4.38765917e-02,  1.95273105e-01,  1.64801274e-01,  6.07611146e-02,\n",
       "        1.89333738e-02,  7.81846681e-02,  3.99736785e-02, -3.06000680e-04,\n",
       "        2.70908456e-02,  3.46118282e-02, -1.31107021e-01, -2.06122246e-01,\n",
       "       -1.46738738e-01, -3.25978275e-01, -5.14817800e-01, -6.15806648e-01,\n",
       "       -9.18631059e-01, -1.16590753e+00, -1.15789277e+00, -1.33936068e+00,\n",
       "       -1.46076388e+00, -1.49473962e+00, -1.56734753e+00,  1.40598998e+00,\n",
       "        1.37031124e+00,  1.27783062e+00,  1.17545756e+00,  1.26923922e+00,\n",
       "        1.31706233e+00,  1.36102024e+00, -1.56738925e+00, -1.24887760e+00,\n",
       "       -1.07030451e+00, -9.20718003e-01, -1.16511239e+00, -1.11823878e+00,\n",
       "        1.53084274e+00,  1.06667407e+00,  7.05091415e-01,  4.33164455e-01,\n",
       "        1.33242040e-01,  1.59328334e-01,  1.74828607e-01,  8.92597151e-03,\n",
       "       -6.16028281e-03,  1.20179233e-01, -1.26691974e-02, -8.39400274e-02,\n",
       "        7.68136519e-02,  4.30724985e-02,  7.29558908e-02,  2.15032394e-01,\n",
       "        4.00732405e-01,  4.79004616e-01,  6.49207810e-01,  8.45180593e-01,\n",
       "        1.34429011e+00])"
      ]
     },
     "execution_count": 45,
     "metadata": {},
     "output_type": "execute_result"
    }
   ],
   "source": [
    "rotation_z"
   ]
  },
  {
   "cell_type": "markdown",
   "metadata": {},
   "source": [
    "### Manual Rotations"
   ]
  },
  {
   "cell_type": "markdown",
   "metadata": {},
   "source": [
    "Estimating rotations along z-axis manually by observing the image dataset"
   ]
  },
  {
   "cell_type": "code",
   "execution_count": 59,
   "metadata": {},
   "outputs": [],
   "source": [
    "_1=[0]*10\n",
    "_2=[-1*np.pi/6]*16\n",
    "_3=[0]*5\n",
    "_4=[np.pi/4]*5\n",
    "_5=[np.pi/2]*5\n",
    "_6=[np.pi*0.75]*22\n",
    "_7=[np.pi]*5\n",
    "_8=[np.pi*1.5]*6\n",
    "\n",
    "manual_rotations=_1+_2+_3+_4+_5+_6+_7+_8"
   ]
  },
  {
   "cell_type": "code",
   "execution_count": 79,
   "metadata": {},
   "outputs": [],
   "source": [
    "angles=np.array(manual_rotations)\n",
    "rot_z=np.zeros((74,2),dtype=float)\n",
    "rotations=np.column_stack((rot_z,angles))\n",
    "\n",
    "np.savetxt(\"Data/rotations.txt\",rotations)"
   ]
  }
 ],
 "metadata": {
  "kernelspec": {
   "display_name": "Python 3",
   "language": "python",
   "name": "python3"
  },
  "language_info": {
   "codemirror_mode": {
    "name": "ipython",
    "version": 3
   },
   "file_extension": ".py",
   "mimetype": "text/x-python",
   "name": "python",
   "nbconvert_exporter": "python",
   "pygments_lexer": "ipython3",
   "version": "3.8.5"
  }
 },
 "nbformat": 4,
 "nbformat_minor": 4
}
